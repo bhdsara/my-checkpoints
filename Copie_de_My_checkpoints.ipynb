{
  "cells": [
    {
      "cell_type": "code",
      "execution_count": null,
      "metadata": {
        "colab": {
          "base_uri": "https://localhost:8080/"
        },
        "id": "hhWw87l_ztA0",
        "outputId": "f1121f81-0206-4e1f-8e39-56e0cf8f5fae"
      },
      "outputs": [
        {
          "name": "stdout",
          "output_type": "stream",
          "text": [
            "[2002, 2009, 2016, 2023, 2037, 2044, 2051, 2058, 2072, 2079, 2086, 2093, 2107, 2114, 2121, 2128, 2142, 2149, 2156, 2163, 2177, 2184, 2191, 2198, 2212, 2219, 2226, 2233, 2247, 2254, 2261, 2268, 2282, 2289, 2296, 2303, 2317, 2324, 2331, 2338, 2352, 2359, 2366, 2373, 2387, 2394, 2401, 2408, 2422, 2429, 2436, 2443, 2457, 2464, 2471, 2478, 2492, 2499, 2506, 2513, 2527, 2534, 2541, 2548, 2562, 2569, 2576, 2583, 2597, 2604, 2611, 2618, 2632, 2639, 2646, 2653, 2667, 2674, 2681, 2688, 2702, 2709, 2716, 2723, 2737, 2744, 2751, 2758, 2772, 2779, 2786, 2793, 2807, 2814, 2821, 2828, 2842, 2849, 2856, 2863, 2877, 2884, 2891, 2898, 2912, 2919, 2926, 2933, 2947, 2954, 2961, 2968, 2982, 2989, 2996, 3003, 3017, 3024, 3031, 3038, 3052, 3059, 3066, 3073, 3087, 3094, 3101, 3108, 3122, 3129, 3136, 3143, 3157, 3164, 3171, 3178, 3192, 3199]\n"
          ]
        }
      ],
      "source": [
        "##Question 1\n",
        "#begin\n",
        "list=[i for i in range(2000,3201) if i%7 == 0 and i%5!= 0]\n",
        "print(list)\n",
        "#end"
      ]
    },
    {
      "cell_type": "code",
      "execution_count": null,
      "metadata": {
        "colab": {
          "base_uri": "https://localhost:8080/"
        },
        "id": "IwQ0x8HjCnUN",
        "outputId": "cab66aa7-c4fd-42df-bd9e-3a5999f21943"
      },
      "outputs": [
        {
          "name": "stdout",
          "output_type": "stream",
          "text": [
            "(120, [1, 2, 6, 24, 120])\n"
          ]
        }
      ],
      "source": [
        "##Question2\n",
        "#begin\n",
        "N =5\n",
        "# 5!=1*2*3*4*5\n",
        "def factoriel(n):\n",
        "  liste =[1,2]\n",
        "  resultat = 2\n",
        "  for i in range(3,n+1):\n",
        "   resultat = resultat * i\n",
        "   liste.append(resultat)\n",
        "  return resultat,liste\n",
        "resultat = factoriel(n=N)\n",
        "print (resultat)\n",
        "#end\n"
      ]
    },
    {
      "cell_type": "code",
      "execution_count": null,
      "metadata": {
        "colab": {
          "base_uri": "https://localhost:8080/"
        },
        "id": "-sAdlUCIM6dq",
        "outputId": "900b9fbf-4fce-4979-8bcd-10d264bd7763"
      },
      "outputs": [
        {
          "output_type": "stream",
          "name": "stdout",
          "text": [
            "{1: 1, 2: 4, 3: 9, 4: 16, 5: 25, 6: 36, 7: 49, 8: 64}\n"
          ]
        }
      ],
      "source": [
        "##Question3\n",
        "#begin\n",
        "n=8\n",
        "dict ={}\n",
        "for i in range(1,n+1):\n",
        "  dict[i] = i*i\n",
        "print(dict)\n",
        "#end\n"
      ]
    },
    {
      "cell_type": "code",
      "source": [
        "##Question4\n",
        "#begin\n",
        "def missing_char(str,n):\n",
        "  return str.replace(str[n],'')\n",
        "print(missing_char('kitten',1))\n",
        "print(missing_char('kitten',0))\n",
        "print(missing_char('kitten',4))\n",
        "#end"
      ],
      "metadata": {
        "colab": {
          "base_uri": "https://localhost:8080/"
        },
        "id": "eKtgb8I7wzaK",
        "outputId": "938dbcbb-2553-43e1-aebc-04b06b914042"
      },
      "execution_count": null,
      "outputs": [
        {
          "output_type": "stream",
          "name": "stdout",
          "text": [
            "ktten\n",
            "itten\n",
            "kittn\n"
          ]
        }
      ]
    },
    {
      "cell_type": "code",
      "source": [
        "##Question5\n",
        "#begin\n",
        "import numpy as np\n",
        "x = np.arange(6).reshape(3,2)\n",
        "print('Original array elements:')\n",
        "print(x)\n",
        "print('Array to list:')\n",
        "print(x.tolist())\n",
        "#end"
      ],
      "metadata": {
        "colab": {
          "base_uri": "https://localhost:8080/"
        },
        "id": "VShGZ4VX0H3G",
        "outputId": "a059fa98-9e92-4eed-cc9f-56b07cd0ad0c"
      },
      "execution_count": null,
      "outputs": [
        {
          "output_type": "stream",
          "name": "stdout",
          "text": [
            "Original array elements:\n",
            "[[0 1]\n",
            " [2 3]\n",
            " [4 5]]\n",
            "Array to list:\n",
            "[[0, 1], [2, 3], [4, 5]]\n"
          ]
        }
      ]
    },
    {
      "cell_type": "code",
      "source": [
        "##Question6\n",
        "#begin\n",
        "import numpy as np\n",
        "X1=[0,1,2]\n",
        "X2=[2,1,0]\n",
        "X1=np.array(X1)\n",
        "X2=np.array(X2)\n",
        "print('Original array1:')\n",
        "print(X1)\n",
        "print('Original array2:')\n",
        "print(X2)\n",
        "print('Covariance matrix of the said arrays:')\n",
        "print(np.cov(X1,X2))\n",
        "#end"
      ],
      "metadata": {
        "colab": {
          "base_uri": "https://localhost:8080/"
        },
        "id": "AND5UhTh6ApO",
        "outputId": "18d3cbce-46d0-4743-f10d-0376256a3519"
      },
      "execution_count": null,
      "outputs": [
        {
          "output_type": "stream",
          "name": "stdout",
          "text": [
            "Original array1:\n",
            "[0 1 2]\n",
            "Original array2:\n",
            "[2 1 0]\n",
            "Covariance matrix of the said arrays:\n",
            "[[ 1. -1.]\n",
            " [-1.  1.]]\n"
          ]
        }
      ]
    },
    {
      "cell_type": "code",
      "source": [
        "##Question7\n",
        "#begin\n",
        "import math\n",
        "C = 50\n",
        "H = 30\n",
        "value =[]\n",
        "result =[]\n",
        "Items =[i for i in input().split(\",\")]\n",
        "for D in Items:\n",
        "  value.append(str(int(round(math.sqrt((2*C*float(D))/H)))))\n",
        "\n",
        "print(','.join(value)) \n",
        "#end\n",
        "\n",
        "\n"
      ],
      "metadata": {
        "id": "GZbq6afLIIIh",
        "colab": {
          "base_uri": "https://localhost:8080/"
        },
        "outputId": "5089a028-c85f-427a-eff6-2a820d63c8ff"
      },
      "execution_count": null,
      "outputs": [
        {
          "output_type": "stream",
          "name": "stdout",
          "text": [
            "100,150,180\n",
            "18,22,24\n"
          ]
        }
      ]
    }
  ],
  "metadata": {
    "colab": {
      "collapsed_sections": [],
      "provenance": [],
      "toc_visible": true
    },
    "kernelspec": {
      "display_name": "Python 3",
      "name": "python3"
    },
    "language_info": {
      "name": "python"
    }
  },
  "nbformat": 4,
  "nbformat_minor": 0
}